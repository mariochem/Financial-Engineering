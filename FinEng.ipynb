{
  "nbformat": 4,
  "nbformat_minor": 0,
  "metadata": {
    "colab": {
      "name": "FinEng.ipynb",
      "provenance": [],
      "private_outputs": true,
      "authorship_tag": "ABX9TyMFDsDszaLSLMSi8LgYRZcH",
      "include_colab_link": true
    },
    "kernelspec": {
      "name": "python3",
      "display_name": "Python 3"
    }
  },
  "cells": [
    {
      "cell_type": "markdown",
      "metadata": {
        "id": "view-in-github",
        "colab_type": "text"
      },
      "source": [
        "<a href=\"https://colab.research.google.com/github/mariochem/Financial-Engineering/blob/master/FinEng.ipynb\" target=\"_parent\"><img src=\"https://colab.research.google.com/assets/colab-badge.svg\" alt=\"Open In Colab\"/></a>"
      ]
    },
    {
      "cell_type": "code",
      "metadata": {
        "id": "jtfPA4ww8V8U",
        "colab_type": "code",
        "colab": {}
      },
      "source": [
        "import numpy as np\n",
        "from operator import mul\n",
        "from math import *\n",
        "from IPython import embed\n",
        "\n",
        "# A Python program to print all  \n",
        "# permutations using library function \n",
        "from itertools import permutations, combinations, combinations_with_replacement \n",
        "  \n",
        "def calcPV(p,n,r):\n",
        "    ''' calcPV(p,n,r)\n",
        "    Args:\n",
        "      p (float) : future value\n",
        "      n (int) : number of periods\n",
        "      r (float) : interest for each periods\n",
        "   Returns:\n",
        "      float.  The present value of the cash flow\n",
        "    '''\n",
        "    return p*(1-(r+1)**(-n))/(1-1/(1+r))\n",
        "\n",
        "\n",
        "# calcualte the future value\n",
        "# input: present value, number of periods, interest for each periods\n",
        "def calcFV(p,n,r):\n",
        "    return p*((r+1)**n-1)/r\n",
        "\n",
        "# calculate the discount rate\n",
        "# input: interest rate and number of periods\n",
        "def calcDis(r,t):\n",
        "    return 1/(r+1)**t\n",
        "\n",
        "# Utility function to find factorial of n. \n",
        "def factorial(n):\n",
        "  fact =1\n",
        "  for i in range (1,n+1):\n",
        "    fact = fact * i\n",
        "  return fact \n",
        "\n",
        "def permutation(lst): \n",
        "  \n",
        "    # If lst is empty then there are no permutations \n",
        "    if len(lst) == 0: \n",
        "        return [] \n",
        "  \n",
        "    # If there is only one element in lst then, only \n",
        "    # one permuatation is possible \n",
        "    if len(lst) == 1: \n",
        "        return [lst] \n",
        "  \n",
        "    # Find the permutations for lst if there are \n",
        "    # more than 1 characters \n",
        "  \n",
        "    l = [] # empty list that will store current permutation \n",
        "  \n",
        "    # Iterate the input(lst) and calculate the permutation \n",
        "    for i in range(len(lst)): \n",
        "       m = lst[i] \n",
        "  \n",
        "       # Extract lst[i] or m from the list.  remLst is \n",
        "       # remaining list \n",
        "       remLst = lst[:i] + lst[i+1:] \n",
        "  \n",
        "       # Generating all permutations where m is first \n",
        "       # element \n",
        "       for p in permutation(remLst): \n",
        "           l.append([m] + p) \n",
        "    return l \n",
        "\n",
        "def onePeriodPrice(Cu,Cd,q,r):\n",
        "    ''' return the one period option price\n",
        "    Binomial model for option pricing\n",
        "    '''\n",
        "    if q <= 0 or q>=1:\n",
        "      print ('!! q value is wrong !!')\n",
        "    return (q*Cu+(1-q)*Cd)/(1+r)\n"
      ],
      "execution_count": 0,
      "outputs": []
    },
    {
      "cell_type": "markdown",
      "metadata": {
        "id": "Y-QrOuYQWYnR",
        "colab_type": "text"
      },
      "source": [
        "# Teste das funções financeiras"
      ]
    },
    {
      "cell_type": "code",
      "metadata": {
        "id": "TuLWzqMUWvCL",
        "colab_type": "code",
        "colab": {}
      },
      "source": [
        "print (calcPV(100,2,0.1))\n",
        "print (calcFV(100,2,0.1))\n",
        "print(calcDis(0.1, 1))"
      ],
      "execution_count": 0,
      "outputs": []
    },
    {
      "cell_type": "markdown",
      "metadata": {
        "id": "IIPJewdOBR54",
        "colab_type": "text"
      },
      "source": [
        "# Pagamentos de Loteria\n",
        "\n",
        "Uma grande loteria anuncia que paga ao vencedor RS $ 10 milhões. No entanto, esse prêmio em dinheiro é pago à taxa de R$ 500.000 a cada ano (sendo o primeiro pagamento imediato) por um total de 20 pagamentos. Qual é o valor presente deste prêmio com juros de 10% compostos anualmente? Relate sua resposta em milhões, arredondada para duas casas decimais."
      ]
    },
    {
      "cell_type": "code",
      "metadata": {
        "id": "sOEyxereCknZ",
        "colab_type": "code",
        "colab": {}
      },
      "source": [
        "print (\"%5.2f\" % calcPV(0.5,20,1.1)+ \" milhoes\")"
      ],
      "execution_count": 0,
      "outputs": []
    },
    {
      "cell_type": "markdown",
      "metadata": {
        "id": "wGOhUbyOEii7",
        "colab_type": "text"
      },
      "source": [
        "Um jovem casal já fez um depósito do aluguel do primeiro mês. \n",
        "\n",
        "O valor total dos alugueis no período será de R$1.000,00 sendo que o primeiro aluguel não foi pago e o período que o imóvel ficará aluguado é de 6 meses. \n",
        "\n",
        "O depósito exigido é de R$1.000,00  reembolsável no final de seis meses, se eles ficarem no apartamento.\n",
        "\n",
        "No dia seguinte, o casal encontra um apartamento diferente, mas o aluguel mensal é de apenas R$900. \n",
        "\n",
        "E eles teriam novamente que depositar um depósito de R$900 reembolsável no final de 6 meses. \n",
        "\n",
        "O casal quer decidir se quer ficar no apartamento de US $ 1000 ou mudar para o apartamento mais barato e renunciar ao depósito. Eles farão isso comparando o valor presente dos fluxos de caixa (futuros) associados aos dois arrendamentos de apartamentos.\n",
        "\n",
        "Qual é o valor presente dos fluxos de caixa (futuros) associados ao apartamento de US $ 1.000? Suponha uma taxa de juros de 12% ao mês, composta mensalmente. Arredonde sua resposta para o número inteiro mais próximo.\n",
        "\n",
        "Suponha que o aluguel de cada mês seja pago antecipadamente no início do mês e que o depósito seja devolvido ao final de seis meses. Além disso, sua resposta deve ser um número negativo, pois o pagamento do aluguel é uma saída de caixa do casal."
      ]
    },
    {
      "cell_type": "code",
      "metadata": {
        "id": "PBYASp6qHHUc",
        "colab_type": "code",
        "colab": {}
      },
      "source": [
        "r = 1.12 \n",
        "n = 6\n",
        "\n",
        "# case 1\n",
        "p = 1000.\n",
        "pv1 = calcPV(p,n,r)-p*calcDis(r-1,n)\n",
        "print ('%5.1f' % -pv1)"
      ],
      "execution_count": 0,
      "outputs": []
    },
    {
      "cell_type": "code",
      "metadata": {
        "id": "I5RK2QNeK7a8",
        "colab_type": "code",
        "colab": {}
      },
      "source": [
        "    r = 1.12\n",
        "    n = 6\n",
        "    # case 2\n",
        "    p = 900.\n",
        "    pv2 = p + calcPV(p,n,r)- p*calcDis(r-1,n)\n",
        "    print ('%5.1f' % -pv2)"
      ],
      "execution_count": 0,
      "outputs": []
    },
    {
      "cell_type": "markdown",
      "metadata": {
        "id": "HrDUhExZXj7r",
        "colab_type": "text"
      },
      "source": [
        "# Teste das funções de análise combinatoria"
      ]
    },
    {
      "cell_type": "code",
      "metadata": {
        "id": "9zfcSJtv1Zfz",
        "colab_type": "code",
        "colab": {}
      },
      "source": [
        "print (factorial(5))\n",
        "\n",
        "# Driver program to test permutation function \n",
        "data = list('1123') \n",
        "for p in permutation(data): \n",
        "    print (p)\n",
        "print(\"\\n\") \n",
        "\n",
        "# Get all permutations of [1, 2, 3] \n",
        "perm = permutations([1, 1, 2, 3]) \n",
        "  \n",
        "# Print the obtained permutations \n",
        "for i in list(perm): \n",
        "    print (i) \n",
        "print(\"\\n\")\n",
        "\n",
        "# Get all permutations of length 2 \n",
        "# and length 2 \n",
        "perm = permutations([1, 2, 3], 2) \n",
        "  \n",
        "# Print the obtained permutations \n",
        "for i in list(perm): \n",
        "    print (i) \n",
        "print(\"\\n\")\n",
        "# Get all combinations of [1, 2, 3] \n",
        "# and length 2 \n",
        "comb = combinations([1, 2, 3, 4, 5, 6], 2) \n",
        "  \n",
        "# Print the obtained combinations\n",
        "indice = 1 \n",
        "for i in list(comb):\n",
        "  print (str(indice)+\" - \"+ str(i))\n",
        "  indice = indice + 1  \n",
        "print(\"\\n\")\n",
        "\n",
        "# playing with Dices\n",
        "# Get the combinations from [1, 2, 3, 4, 5, 6] when playing with 2 Dices \n",
        "comb = combinations_with_replacement([1, 2, 3, 4, 5, 6], 2) \n",
        "  \n",
        "# Print the obtained combinations\n",
        "indice = 1 \n",
        "for i in list(comb): \n",
        "    print (str(indice)+\" - \"+ str(i))\n",
        "    indice=indice + 1 "
      ],
      "execution_count": 0,
      "outputs": []
    }
  ]
}